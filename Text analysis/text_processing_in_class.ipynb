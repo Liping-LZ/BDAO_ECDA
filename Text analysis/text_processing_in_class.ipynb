{
  "nbformat": 4,
  "nbformat_minor": 0,
  "metadata": {
    "colab": {
      "provenance": [],
      "authorship_tag": "ABX9TyNzo0B5PoKiRXrfkh0xyiIM",
      "include_colab_link": true
    },
    "kernelspec": {
      "name": "python3",
      "display_name": "Python 3"
    },
    "language_info": {
      "name": "python"
    }
  },
  "cells": [
    {
      "cell_type": "markdown",
      "metadata": {
        "id": "view-in-github",
        "colab_type": "text"
      },
      "source": [
        "<a href=\"https://colab.research.google.com/github/Liping-LZ/BDAO_ECDA/blob/main/Text%20analysis/text_processing_in_class.ipynb\" target=\"_parent\"><img src=\"https://colab.research.google.com/assets/colab-badge.svg\" alt=\"Open In Colab\"/></a>"
      ]
    },
    {
      "cell_type": "code",
      "execution_count": null,
      "metadata": {
        "id": "2OVlJcZgwWEe"
      },
      "outputs": [],
      "source": [
        "text = \"BDAO github repository https://github.com/Liping-LZ/BDAO_2223 is 🔥🔥 Coding is SUPER fun!!! Hope I'll do it again. By the way Mark is the best 1234. my email: liping@gmail.com\""
      ]
    },
    {
      "cell_type": "code",
      "source": [
        "# lower casing\n",
        "new = text.lower()\n",
        "new"
      ],
      "metadata": {
        "colab": {
          "base_uri": "https://localhost:8080/",
          "height": 52
        },
        "id": "Eb9gXhEUyMqQ",
        "outputId": "750cbe86-db57-40d3-faac-388d69e8a6d9"
      },
      "execution_count": null,
      "outputs": [
        {
          "output_type": "execute_result",
          "data": {
            "text/plain": [
              "\"bdao github repository https://github.com/liping-lz/bdao_2223 is 🔥🔥 coding is super fun!!! hope i'll do it again. by the way mark is the best 1234. my email: liping@gmail.com\""
            ],
            "application/vnd.google.colaboratory.intrinsic+json": {
              "type": "string"
            }
          },
          "metadata": {},
          "execution_count": 2
        }
      ]
    },
    {
      "cell_type": "code",
      "source": [
        "# remove contraction\n",
        "!pip install contractions"
      ],
      "metadata": {
        "colab": {
          "base_uri": "https://localhost:8080/"
        },
        "id": "F5lmOsSGyQM-",
        "outputId": "e6e70c14-b6b2-4982-e1af-1287764c0dfa"
      },
      "execution_count": null,
      "outputs": [
        {
          "output_type": "stream",
          "name": "stdout",
          "text": [
            "Looking in indexes: https://pypi.org/simple, https://us-python.pkg.dev/colab-wheels/public/simple/\n",
            "Collecting contractions\n",
            "  Downloading contractions-0.1.73-py2.py3-none-any.whl (8.7 kB)\n",
            "Collecting textsearch>=0.0.21\n",
            "  Downloading textsearch-0.0.24-py2.py3-none-any.whl (7.6 kB)\n",
            "Collecting pyahocorasick\n",
            "  Downloading pyahocorasick-2.0.0-cp38-cp38-manylinux_2_5_x86_64.manylinux1_x86_64.whl (104 kB)\n",
            "\u001b[2K     \u001b[90m━━━━━━━━━━━━━━━━━━━━━━━━━━━━━━━━━━━━━━━\u001b[0m \u001b[32m104.5/104.5 KB\u001b[0m \u001b[31m3.7 MB/s\u001b[0m eta \u001b[36m0:00:00\u001b[0m\n",
            "\u001b[?25hCollecting anyascii\n",
            "  Downloading anyascii-0.3.1-py3-none-any.whl (287 kB)\n",
            "\u001b[2K     \u001b[90m━━━━━━━━━━━━━━━━━━━━━━━━━━━━━━━━━━━━━━\u001b[0m \u001b[32m287.5/287.5 KB\u001b[0m \u001b[31m13.4 MB/s\u001b[0m eta \u001b[36m0:00:00\u001b[0m\n",
            "\u001b[?25hInstalling collected packages: pyahocorasick, anyascii, textsearch, contractions\n",
            "Successfully installed anyascii-0.3.1 contractions-0.1.73 pyahocorasick-2.0.0 textsearch-0.0.24\n"
          ]
        }
      ]
    },
    {
      "cell_type": "code",
      "source": [
        "import contractions\n",
        "new = contractions.fix(new)\n",
        "new"
      ],
      "metadata": {
        "colab": {
          "base_uri": "https://localhost:8080/",
          "height": 52
        },
        "id": "JrqCXvncylCO",
        "outputId": "14230d64-0cc5-4045-98b6-3cc4d6a5ef2d"
      },
      "execution_count": null,
      "outputs": [
        {
          "output_type": "execute_result",
          "data": {
            "text/plain": [
              "'bdao github repository https://github.com/liping-lz/bdao_2223 is 🔥🔥 coding is super fun!!! hope i will do it again. by the way mark is the best 1234. my email: liping@gmail.com'"
            ],
            "application/vnd.google.colaboratory.intrinsic+json": {
              "type": "string"
            }
          },
          "metadata": {},
          "execution_count": 4
        }
      ]
    },
    {
      "cell_type": "code",
      "source": [
        "# Remove emoji & emoticons\n",
        "# First, build a list of commonly used emojis\n",
        "# emoji/emoticons dictionary here: https://github.com/NeelShah18/emot/blob/master/emot/emo_unicode.py\n",
        "import re\n",
        "emoj = re.compile(\"[\"\n",
        "        u\"\\U0001F600-\\U0001F64F\"  # emoticons\n",
        "        u\"\\U0001F300-\\U0001F5FF\"  # symbols & pictographs\n",
        "        u\"\\U0001F680-\\U0001F6FF\"  # transport & map symbols\n",
        "        u\"\\U0001F1E0-\\U0001F1FF\"  # flags (iOS)\n",
        "        u\"\\U00002500-\\U00002BEF\"  # chinese char\n",
        "        u\"\\U00002702-\\U000027B0\"\n",
        "        u\"\\U00002702-\\U000027B0\"\n",
        "        u\"\\U000024C2-\\U0001F251\"\n",
        "        u\"\\U0001f926-\\U0001f937\"\n",
        "        u\"\\U00010000-\\U0010ffff\"\n",
        "        u\"\\u2640-\\u2642\"\n",
        "        u\"\\u2600-\\u2B55\"\n",
        "        u\"\\u200d\"\n",
        "        u\"\\u23cf\"\n",
        "        u\"\\u23e9\"\n",
        "        u\"\\u231a\"\n",
        "        u\"\\ufe0f\"  # dingbats\n",
        "        u\"\\u3030\"\n",
        "\n",
        "                      \"]+\", re.UNICODE)\n",
        "\n",
        "new = re.sub(emoj, '', new)\n",
        "new"
      ],
      "metadata": {
        "colab": {
          "base_uri": "https://localhost:8080/",
          "height": 52
        },
        "id": "oSyBCTykztpX",
        "outputId": "aeee6f71-6982-4f51-8b12-0f8af7412a90"
      },
      "execution_count": null,
      "outputs": [
        {
          "output_type": "execute_result",
          "data": {
            "text/plain": [
              "'bdao github repository https://github.com/liping-lz/bdao_2223 is  coding is super fun!!! hope i will do it again. by the way mark is the best 1234. my email: liping@gmail.com'"
            ],
            "application/vnd.google.colaboratory.intrinsic+json": {
              "type": "string"
            }
          },
          "metadata": {},
          "execution_count": 5
        }
      ]
    },
    {
      "cell_type": "code",
      "source": [
        "# remove links\n",
        "new = re.sub('http://\\S+|https://\\S+', '', new)\n",
        "new"
      ],
      "metadata": {
        "colab": {
          "base_uri": "https://localhost:8080/",
          "height": 35
        },
        "id": "jfcQKzLe5s0U",
        "outputId": "a7b874a0-9729-43af-aec7-a4935191c787"
      },
      "execution_count": null,
      "outputs": [
        {
          "output_type": "execute_result",
          "data": {
            "text/plain": [
              "'bdao github repository  is  coding is super fun!!! hope i will do it again. by the way mark is the best 1234. my email: liping@gmail.com'"
            ],
            "application/vnd.google.colaboratory.intrinsic+json": {
              "type": "string"
            }
          },
          "metadata": {},
          "execution_count": 6
        }
      ]
    },
    {
      "cell_type": "code",
      "source": [
        "# remove email\n",
        "new = re.sub('\\S*@\\S*\\s?', '', new)\n",
        "new"
      ],
      "metadata": {
        "colab": {
          "base_uri": "https://localhost:8080/",
          "height": 35
        },
        "id": "L2ormfui8AtI",
        "outputId": "fb353313-10e3-443c-c8c5-c6064a9800e2"
      },
      "execution_count": null,
      "outputs": [
        {
          "output_type": "execute_result",
          "data": {
            "text/plain": [
              "'bdao github repository  is  coding is super fun!!! hope i will do it again. by the way mark is the best 1234. my email: '"
            ],
            "application/vnd.google.colaboratory.intrinsic+json": {
              "type": "string"
            }
          },
          "metadata": {},
          "execution_count": 7
        }
      ]
    },
    {
      "cell_type": "code",
      "source": [
        "# remove punctuation\n",
        "import string\n",
        "import re\n",
        "new = re.sub('[%s]' % re.escape(string.punctuation), ' ', new)\n",
        "new"
      ],
      "metadata": {
        "colab": {
          "base_uri": "https://localhost:8080/",
          "height": 35
        },
        "id": "oQnpPYWCyuK6",
        "outputId": "86a465e0-aa9b-4bd3-fccb-61a8b40538f9"
      },
      "execution_count": null,
      "outputs": [
        {
          "output_type": "execute_result",
          "data": {
            "text/plain": [
              "'bdao github repository  is  coding is super fun    hope i will do it again  by the way mark is the best 1234  my email  '"
            ],
            "application/vnd.google.colaboratory.intrinsic+json": {
              "type": "string"
            }
          },
          "metadata": {},
          "execution_count": 8
        }
      ]
    },
    {
      "cell_type": "code",
      "source": [
        "# remove numbers\n",
        "new = re.sub(r\"\\d+\", \"\", new)\n",
        "new"
      ],
      "metadata": {
        "colab": {
          "base_uri": "https://localhost:8080/",
          "height": 35
        },
        "id": "zJZHVcZJ9Oyk",
        "outputId": "fdfb9230-294d-47d5-9762-07995d7c3a67"
      },
      "execution_count": null,
      "outputs": [
        {
          "output_type": "execute_result",
          "data": {
            "text/plain": [
              "'bdao github repository  is  coding is super fun    hope i will do it again  by the way mark is the best   my email  '"
            ],
            "application/vnd.google.colaboratory.intrinsic+json": {
              "type": "string"
            }
          },
          "metadata": {},
          "execution_count": 9
        }
      ]
    },
    {
      "cell_type": "code",
      "source": [
        "# remove extra space\n",
        "new = re.sub('\\s{2,}', ' ', new)\n",
        "new"
      ],
      "metadata": {
        "colab": {
          "base_uri": "https://localhost:8080/",
          "height": 35
        },
        "id": "CVXQhT2T1-gW",
        "outputId": "29f88bca-9235-4887-e996-9f21cdfd2112"
      },
      "execution_count": null,
      "outputs": [
        {
          "output_type": "execute_result",
          "data": {
            "text/plain": [
              "'bdao github repository is coding is super fun hope i will do it again by the way mark is the best my email '"
            ],
            "application/vnd.google.colaboratory.intrinsic+json": {
              "type": "string"
            }
          },
          "metadata": {},
          "execution_count": 10
        }
      ]
    },
    {
      "cell_type": "code",
      "source": [
        "import nltk\n",
        "nltk.download('punkt')"
      ],
      "metadata": {
        "colab": {
          "base_uri": "https://localhost:8080/"
        },
        "id": "cRjmXSZk3L7W",
        "outputId": "25c4eb1d-2a57-4d32-cd13-14a59a46cc1c"
      },
      "execution_count": null,
      "outputs": [
        {
          "output_type": "stream",
          "name": "stderr",
          "text": [
            "[nltk_data] Downloading package punkt to /root/nltk_data...\n",
            "[nltk_data]   Unzipping tokenizers/punkt.zip.\n"
          ]
        },
        {
          "output_type": "execute_result",
          "data": {
            "text/plain": [
              "True"
            ]
          },
          "metadata": {},
          "execution_count": 11
        }
      ]
    },
    {
      "cell_type": "code",
      "source": [
        "# tokenise the words\n",
        "from nltk.tokenize import word_tokenize\n",
        "word_token = word_tokenize(new)\n",
        "\n",
        "word_token"
      ],
      "metadata": {
        "colab": {
          "base_uri": "https://localhost:8080/"
        },
        "id": "lRd5whf9_zo6",
        "outputId": "7e23dce9-0ea0-4932-fc45-586d4ddd05f4"
      },
      "execution_count": null,
      "outputs": [
        {
          "output_type": "execute_result",
          "data": {
            "text/plain": [
              "['bdao',\n",
              " 'github',\n",
              " 'repository',\n",
              " 'is',\n",
              " 'coding',\n",
              " 'is',\n",
              " 'super',\n",
              " 'fun',\n",
              " 'hope',\n",
              " 'i',\n",
              " 'will',\n",
              " 'do',\n",
              " 'it',\n",
              " 'again',\n",
              " 'by',\n",
              " 'the',\n",
              " 'way',\n",
              " 'mark',\n",
              " 'is',\n",
              " 'the',\n",
              " 'best',\n",
              " 'my',\n",
              " 'email']"
            ]
          },
          "metadata": {},
          "execution_count": 12
        }
      ]
    },
    {
      "cell_type": "code",
      "source": [
        "# Start dealing with stopwords\n",
        "import nltk\n",
        "nltk.download('stopwords')"
      ],
      "metadata": {
        "colab": {
          "base_uri": "https://localhost:8080/"
        },
        "id": "5GbopT1pBepX",
        "outputId": "d8a339ac-9022-4524-c7b0-b27af9587f3d"
      },
      "execution_count": null,
      "outputs": [
        {
          "output_type": "stream",
          "name": "stderr",
          "text": [
            "[nltk_data] Downloading package stopwords to /root/nltk_data...\n",
            "[nltk_data]   Unzipping corpora/stopwords.zip.\n"
          ]
        },
        {
          "output_type": "execute_result",
          "data": {
            "text/plain": [
              "True"
            ]
          },
          "metadata": {},
          "execution_count": 13
        }
      ]
    },
    {
      "cell_type": "code",
      "source": [
        "from nltk.corpus import stopwords\n",
        "# use English stopwords\n",
        "stopwords = stopwords.words(\"english\")"
      ],
      "metadata": {
        "id": "7iQh6hesBi03"
      },
      "execution_count": null,
      "outputs": []
    },
    {
      "cell_type": "code",
      "source": [
        "token_without_stopwords = [w for w in word_token if not w in stopwords]\n",
        "token_without_stopwords"
      ],
      "metadata": {
        "colab": {
          "base_uri": "https://localhost:8080/"
        },
        "id": "ph4qAznMB14w",
        "outputId": "c5d4d22a-73c3-4bee-ee96-eaa412bbcccb"
      },
      "execution_count": null,
      "outputs": [
        {
          "output_type": "execute_result",
          "data": {
            "text/plain": [
              "['bdao',\n",
              " 'github',\n",
              " 'repository',\n",
              " 'coding',\n",
              " 'super',\n",
              " 'fun',\n",
              " 'hope',\n",
              " 'way',\n",
              " 'mark',\n",
              " 'best',\n",
              " 'email']"
            ]
          },
          "metadata": {},
          "execution_count": 15
        }
      ]
    },
    {
      "cell_type": "code",
      "source": [
        "# option 1: stem the tokens\n",
        "from nltk.stem import PorterStemmer\n",
        "ps = PorterStemmer()\n",
        "\n",
        "text = ['managers', 'managing', 'management', 'manage','manages','managed']\n",
        "stemmed = [ps.stem(w) for w in text]\n",
        "stemmed"
      ],
      "metadata": {
        "colab": {
          "base_uri": "https://localhost:8080/"
        },
        "id": "NDNUgyW7CuOi",
        "outputId": "8a065fdc-9166-4f96-8ba4-b41da79b9742"
      },
      "execution_count": null,
      "outputs": [
        {
          "output_type": "execute_result",
          "data": {
            "text/plain": [
              "['manag', 'manag', 'manag', 'manag', 'manag', 'manag']"
            ]
          },
          "metadata": {},
          "execution_count": 16
        }
      ]
    },
    {
      "cell_type": "code",
      "source": [
        "# option 2: lemmatise the tokens\n",
        "nltk.download('wordnet')\n",
        "nltk.download('omw-1.4')\n",
        "\n",
        "from nltk.stem import WordNetLemmatizer\n",
        "lemmatizer = WordNetLemmatizer()\n",
        "\n",
        "n_lemmatised = [lemmatizer.lemmatize(w) for w in text]\n",
        "v_lemmatised = [lemmatizer.lemmatize(w,'v') for w in n_lemmatised]\n",
        "r_lemmatised = [lemmatizer.lemmatize(w,'r') for w in v_lemmatised]\n",
        "a_lemmatised = [lemmatizer.lemmatize(w,'a') for w in r_lemmatised]\n",
        "\n",
        "a_lemmatised"
      ],
      "metadata": {
        "colab": {
          "base_uri": "https://localhost:8080/"
        },
        "id": "ER3iVizvDG5J",
        "outputId": "36da2b49-2a75-4902-9029-f89ef432efcb"
      },
      "execution_count": null,
      "outputs": [
        {
          "output_type": "stream",
          "name": "stderr",
          "text": [
            "[nltk_data] Downloading package wordnet to /root/nltk_data...\n",
            "[nltk_data] Downloading package omw-1.4 to /root/nltk_data...\n"
          ]
        },
        {
          "output_type": "execute_result",
          "data": {
            "text/plain": [
              "['manager', 'manage', 'management', 'manage', 'manage', 'manage']"
            ]
          },
          "metadata": {},
          "execution_count": 17
        }
      ]
    },
    {
      "cell_type": "code",
      "source": [
        "stemmed_token = [ps.stem(w) for w in token_without_stopwords]\n",
        "stemmed_token"
      ],
      "metadata": {
        "colab": {
          "base_uri": "https://localhost:8080/"
        },
        "id": "zf2fUK5QImMr",
        "outputId": "c8f28ad4-78c9-4f82-843e-0d839cb7e608"
      },
      "execution_count": null,
      "outputs": [
        {
          "output_type": "execute_result",
          "data": {
            "text/plain": [
              "['bdao',\n",
              " 'github',\n",
              " 'repositori',\n",
              " 'code',\n",
              " 'super',\n",
              " 'fun',\n",
              " 'hope',\n",
              " 'way',\n",
              " 'mark',\n",
              " 'best',\n",
              " 'email']"
            ]
          },
          "metadata": {},
          "execution_count": 18
        }
      ]
    },
    {
      "cell_type": "code",
      "source": [
        "nltk.download('averaged_perceptron_tagger')\n",
        "from nltk import pos_tag, RegexpParser\n",
        "tags = pos_tag(stemmed_token)\n",
        "tags"
      ],
      "metadata": {
        "colab": {
          "base_uri": "https://localhost:8080/"
        },
        "id": "hmjhn3mkIzSx",
        "outputId": "b6f08caa-5670-4b25-b637-ca965aa598b5"
      },
      "execution_count": null,
      "outputs": [
        {
          "output_type": "stream",
          "name": "stderr",
          "text": [
            "[nltk_data] Downloading package averaged_perceptron_tagger to\n",
            "[nltk_data]     /root/nltk_data...\n",
            "[nltk_data]   Unzipping taggers/averaged_perceptron_tagger.zip.\n"
          ]
        },
        {
          "output_type": "execute_result",
          "data": {
            "text/plain": [
              "[('bdao', 'NN'),\n",
              " ('github', 'NN'),\n",
              " ('repositori', 'NN'),\n",
              " ('code', 'NN'),\n",
              " ('super', 'JJ'),\n",
              " ('fun', 'NN'),\n",
              " ('hope', 'VBP'),\n",
              " ('way', 'NN'),\n",
              " ('mark', 'NN'),\n",
              " ('best', 'JJS'),\n",
              " ('email', 'NN')]"
            ]
          },
          "metadata": {},
          "execution_count": 19
        }
      ]
    },
    {
      "cell_type": "code",
      "source": [
        "token_nouns = [word for word,pos in tags if pos.startswith('N')]\n",
        "token_nouns"
      ],
      "metadata": {
        "colab": {
          "base_uri": "https://localhost:8080/"
        },
        "id": "0-31tk9hKOiR",
        "outputId": "983873f1-4e62-40bd-c7ce-7b709d79b00c"
      },
      "execution_count": null,
      "outputs": [
        {
          "output_type": "execute_result",
          "data": {
            "text/plain": [
              "['bdao', 'github', 'repositori', 'code', 'fun', 'way', 'mark', 'email']"
            ]
          },
          "metadata": {},
          "execution_count": 20
        }
      ]
    },
    {
      "cell_type": "code",
      "source": [
        "token_adjs = [word for word,pos in tags if pos.startswith('J')]\n",
        "token_adjs"
      ],
      "metadata": {
        "colab": {
          "base_uri": "https://localhost:8080/"
        },
        "id": "agDTd2gTKpJP",
        "outputId": "77e5fbe2-1ba5-4be2-e6a5-76320fba93e3"
      },
      "execution_count": null,
      "outputs": [
        {
          "output_type": "execute_result",
          "data": {
            "text/plain": [
              "['super', 'best']"
            ]
          },
          "metadata": {},
          "execution_count": 21
        }
      ]
    }
  ]
}